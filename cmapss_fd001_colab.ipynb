# Install dependencies (Colab)
pip install -q gdown numpy pandas matplotlib seaborn scikit-learn tensorflow keras## Predictive Maintenance with NASA CMAPSS FD001 (Colab-Ready)

This notebook demonstrates an LSTM Autoencoder for anomaly detection using the NASA CMAPSS FD001 dataset:
- Install dependencies (gdown, numpy, pandas, matplotlib, seaborn, scikit-learn, tensorflow, keras)
- Download and extract the dataset via gdown
- Load and normalize the data
- Create fixed-length sequences with Keras TimeseriesGenerator (single engine for simplicity)
- Train an LSTM Autoencoder and visualize training loss
- Compute reconstruction errors and flag anomalies via a percentile threshold

You can extend this to all engines or other models (e.g., XGBoost).