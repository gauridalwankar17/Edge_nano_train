# Load FD001 data with proper column names (whitespace-separated)
columns = [
    'engine_id',
    'time',
    *[f'op_setting_{i}' for i in range(1, 4)],
    *[f'sensor_{i}' for i in range(1, 22)],
]

fd001 = pd.read_csv(TRAIN_PATH, sep=r'\s+', header=None, names=columns)
print(fd001.shape)
fd001.head()# Download and extract CMAPSS FD001 via gdown
import gdown
import zipfile

DATA_DIR = Path('cmapss_data')
DATA_DIR.mkdir(exist_ok=True)

GOOGLE_DRIVE_URL = 'https://drive.google.com/uc?id=1cyafqY7LIbQhCbOE1P9vE0ghq04n2Vsp'
ZIP_PATH = DATA_DIR / 'CMAPSS_FD001.zip'
EXTRACT_DIR = DATA_DIR

if not ZIP_PATH.exists():
    print('Downloading dataset zip...')
    gdown.download(GOOGLE_DRIVE_URL, str(ZIP_PATH), quiet=False)
else:
    print('Zip already exists, skipping download.')

print('Extracting...')
with zipfile.ZipFile(ZIP_PATH, 'r') as zf:
    zf.extractall(str(EXTRACT_DIR))
print(f'Extracted to: {EXTRACT_DIR.resolve()}')

# Locate train file
possible_train = list(EXTRACT_DIR.rglob('train_FD001.txt'))
if not possible_train:
    raise FileNotFoundError('Could not find train_FD001.txt after extraction.')
TRAIN_PATH = possible_train[0]
print(f'Found training file: {TRAIN_PATH}')# Imports and setup
import os
import random
import warnings
from pathlib import Path

import numpy as np
import pandas as pd
import matplotlib.pyplot as plt
import seaborn as sns

import tensorflow as tf

# Reproducibility
np.random.seed(42)
random.seed(42)
tf.random.set_seed(42)

# Plotting style
sns.set(style="whitegrid")
plt.rcParams["figure.figsize"] = (10, 4)
warnings.filterwarnings("ignore")# Install dependencies (Colab)
!pip install -q gdown numpy pandas matplotlib seaborn scikit-learn tensorflow keras## Predictive Maintenance with NASA CMAPSS FD001 (Colab-Ready)

This notebook demonstrates an LSTM Autoencoder for anomaly detection using the NASA CMAPSS FD001 dataset:
- Install dependencies (gdown, numpy, pandas, matplotlib, seaborn, scikit-learn, tensorflow, keras)
- Download and extract the dataset via gdown
- Load and normalize the data
- Create fixed-length sequences with Keras TimeseriesGenerator (single engine for simplicity)
- Train an LSTM Autoencoder and visualize training loss
- Compute reconstruction errors and flag anomalies via a percentile threshold

You can extend this to all engines or other models (e.g., XGBoost).